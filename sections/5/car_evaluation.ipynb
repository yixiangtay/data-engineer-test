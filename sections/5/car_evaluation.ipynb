{
 "cells": [
  {
   "cell_type": "markdown",
   "id": "13b85af8",
   "metadata": {},
   "source": [
    "# Car Evaluation"
   ]
  },
  {
   "cell_type": "code",
   "execution_count": 1,
   "id": "582fd3c1",
   "metadata": {},
   "outputs": [],
   "source": [
    "import os\n",
    "import numpy as np\n",
    "import pandas as pd\n",
    "import seaborn as sns\n",
    "from sklearn.linear_model import LogisticRegression\n",
    "from sklearn.model_selection import RepeatedStratifiedKFold, cross_val_score"
   ]
  },
  {
   "cell_type": "code",
   "execution_count": 2,
   "id": "0309ac0d",
   "metadata": {},
   "outputs": [],
   "source": [
    "seed = 777"
   ]
  },
  {
   "cell_type": "markdown",
   "id": "85508290",
   "metadata": {},
   "source": [
    "## Read Data"
   ]
  },
  {
   "cell_type": "code",
   "execution_count": 3,
   "id": "963ada4b",
   "metadata": {},
   "outputs": [],
   "source": [
    "columns = [\"buying\", \"maint\", \"doors\", \"persons\", \"lug_boot\", \"safety\", \"class\"]\n",
    "df = pd.read_csv(os.path.join(\"data\", \"car.data\"), names=columns, header=None, index_col=False)"
   ]
  },
  {
   "cell_type": "markdown",
   "id": "2527b8ba",
   "metadata": {},
   "source": [
    "`persons` is not a feature used for prediction"
   ]
  },
  {
   "cell_type": "code",
   "execution_count": 4,
   "id": "192bfaf1",
   "metadata": {},
   "outputs": [],
   "source": [
    "df = df.drop([\"persons\"], axis=1)"
   ]
  },
  {
   "cell_type": "code",
   "execution_count": 5,
   "id": "74491104",
   "metadata": {},
   "outputs": [
    {
     "data": {
      "text/html": [
       "<div>\n",
       "<style scoped>\n",
       "    .dataframe tbody tr th:only-of-type {\n",
       "        vertical-align: middle;\n",
       "    }\n",
       "\n",
       "    .dataframe tbody tr th {\n",
       "        vertical-align: top;\n",
       "    }\n",
       "\n",
       "    .dataframe thead th {\n",
       "        text-align: right;\n",
       "    }\n",
       "</style>\n",
       "<table border=\"1\" class=\"dataframe\">\n",
       "  <thead>\n",
       "    <tr style=\"text-align: right;\">\n",
       "      <th></th>\n",
       "      <th>buying</th>\n",
       "      <th>maint</th>\n",
       "      <th>doors</th>\n",
       "      <th>lug_boot</th>\n",
       "      <th>safety</th>\n",
       "      <th>class</th>\n",
       "    </tr>\n",
       "  </thead>\n",
       "  <tbody>\n",
       "    <tr>\n",
       "      <th>0</th>\n",
       "      <td>vhigh</td>\n",
       "      <td>vhigh</td>\n",
       "      <td>2</td>\n",
       "      <td>small</td>\n",
       "      <td>low</td>\n",
       "      <td>unacc</td>\n",
       "    </tr>\n",
       "    <tr>\n",
       "      <th>1</th>\n",
       "      <td>vhigh</td>\n",
       "      <td>vhigh</td>\n",
       "      <td>2</td>\n",
       "      <td>small</td>\n",
       "      <td>med</td>\n",
       "      <td>unacc</td>\n",
       "    </tr>\n",
       "    <tr>\n",
       "      <th>2</th>\n",
       "      <td>vhigh</td>\n",
       "      <td>vhigh</td>\n",
       "      <td>2</td>\n",
       "      <td>small</td>\n",
       "      <td>high</td>\n",
       "      <td>unacc</td>\n",
       "    </tr>\n",
       "    <tr>\n",
       "      <th>3</th>\n",
       "      <td>vhigh</td>\n",
       "      <td>vhigh</td>\n",
       "      <td>2</td>\n",
       "      <td>med</td>\n",
       "      <td>low</td>\n",
       "      <td>unacc</td>\n",
       "    </tr>\n",
       "    <tr>\n",
       "      <th>4</th>\n",
       "      <td>vhigh</td>\n",
       "      <td>vhigh</td>\n",
       "      <td>2</td>\n",
       "      <td>med</td>\n",
       "      <td>med</td>\n",
       "      <td>unacc</td>\n",
       "    </tr>\n",
       "  </tbody>\n",
       "</table>\n",
       "</div>"
      ],
      "text/plain": [
       "  buying  maint doors lug_boot safety  class\n",
       "0  vhigh  vhigh     2    small    low  unacc\n",
       "1  vhigh  vhigh     2    small    med  unacc\n",
       "2  vhigh  vhigh     2    small   high  unacc\n",
       "3  vhigh  vhigh     2      med    low  unacc\n",
       "4  vhigh  vhigh     2      med    med  unacc"
      ]
     },
     "execution_count": 5,
     "metadata": {},
     "output_type": "execute_result"
    }
   ],
   "source": [
    "df.head()"
   ]
  },
  {
   "cell_type": "markdown",
   "id": "46b58d6f",
   "metadata": {},
   "source": [
    "verify that `class` value distribution is as described"
   ]
  },
  {
   "cell_type": "code",
   "execution_count": 6,
   "id": "d76db5e2",
   "metadata": {},
   "outputs": [
    {
     "data": {
      "text/plain": [
       "unacc    70.023\n",
       "acc      22.222\n",
       "good      3.993\n",
       "vgood     3.762\n",
       "Name: class, dtype: float64"
      ]
     },
     "execution_count": 6,
     "metadata": {},
     "output_type": "execute_result"
    }
   ],
   "source": [
    "round(df[\"class\"].value_counts() / len(df[\"class\"]) * 100, 3)"
   ]
  },
  {
   "cell_type": "code",
   "execution_count": 7,
   "id": "fdd1d61a",
   "metadata": {},
   "outputs": [
    {
     "data": {
      "text/html": [
       "<div>\n",
       "<style scoped>\n",
       "    .dataframe tbody tr th:only-of-type {\n",
       "        vertical-align: middle;\n",
       "    }\n",
       "\n",
       "    .dataframe tbody tr th {\n",
       "        vertical-align: top;\n",
       "    }\n",
       "\n",
       "    .dataframe thead th {\n",
       "        text-align: right;\n",
       "    }\n",
       "</style>\n",
       "<table border=\"1\" class=\"dataframe\">\n",
       "  <thead>\n",
       "    <tr style=\"text-align: right;\">\n",
       "      <th></th>\n",
       "      <th>buying</th>\n",
       "      <th>maint</th>\n",
       "      <th>doors</th>\n",
       "      <th>lug_boot</th>\n",
       "      <th>safety</th>\n",
       "      <th>class</th>\n",
       "    </tr>\n",
       "  </thead>\n",
       "  <tbody>\n",
       "    <tr>\n",
       "      <th>count</th>\n",
       "      <td>1728</td>\n",
       "      <td>1728</td>\n",
       "      <td>1728</td>\n",
       "      <td>1728</td>\n",
       "      <td>1728</td>\n",
       "      <td>1728</td>\n",
       "    </tr>\n",
       "    <tr>\n",
       "      <th>unique</th>\n",
       "      <td>4</td>\n",
       "      <td>4</td>\n",
       "      <td>4</td>\n",
       "      <td>3</td>\n",
       "      <td>3</td>\n",
       "      <td>4</td>\n",
       "    </tr>\n",
       "    <tr>\n",
       "      <th>top</th>\n",
       "      <td>low</td>\n",
       "      <td>low</td>\n",
       "      <td>2</td>\n",
       "      <td>big</td>\n",
       "      <td>low</td>\n",
       "      <td>unacc</td>\n",
       "    </tr>\n",
       "    <tr>\n",
       "      <th>freq</th>\n",
       "      <td>432</td>\n",
       "      <td>432</td>\n",
       "      <td>432</td>\n",
       "      <td>576</td>\n",
       "      <td>576</td>\n",
       "      <td>1210</td>\n",
       "    </tr>\n",
       "  </tbody>\n",
       "</table>\n",
       "</div>"
      ],
      "text/plain": [
       "       buying maint doors lug_boot safety  class\n",
       "count    1728  1728  1728     1728   1728   1728\n",
       "unique      4     4     4        3      3      4\n",
       "top       low   low     2      big    low  unacc\n",
       "freq      432   432   432      576    576   1210"
      ]
     },
     "execution_count": 7,
     "metadata": {},
     "output_type": "execute_result"
    }
   ],
   "source": [
    "df.describe()"
   ]
  },
  {
   "cell_type": "markdown",
   "id": "3d67b046",
   "metadata": {},
   "source": [
    "## Ordinal Encoding"
   ]
  },
  {
   "cell_type": "code",
   "execution_count": 8,
   "id": "cae09f1e",
   "metadata": {},
   "outputs": [],
   "source": [
    "categories = {\n",
    "    \"buying\": [\"low\", \"med\", \"high\", \"vhigh\"],\n",
    "    \"maint\": [\"low\", \"med\", \"high\", \"vhigh\"],\n",
    "    \"doors\": [\"2\", \"3\", \"4\", \"5more\"],\n",
    "    \"lug_boot\": [\"small\", \"med\", \"big\"],\n",
    "    \"safety\": [\"low\", \"med\", \"high\"],\n",
    "    \"class\": [\"unacc\", \"acc\", \"good\", \"vgood\"]\n",
    "}"
   ]
  },
  {
   "cell_type": "code",
   "execution_count": 9,
   "id": "65006146",
   "metadata": {},
   "outputs": [],
   "source": [
    "for c in categories:\n",
    "    cat = pd.Categorical(df[c], categories=categories[c], ordered=True)\n",
    "    df[c] = pd.DataFrame(pd.factorize(cat, sort=True)[0])"
   ]
  },
  {
   "cell_type": "code",
   "execution_count": 10,
   "id": "7950d218",
   "metadata": {},
   "outputs": [
    {
     "data": {
      "text/html": [
       "<div>\n",
       "<style scoped>\n",
       "    .dataframe tbody tr th:only-of-type {\n",
       "        vertical-align: middle;\n",
       "    }\n",
       "\n",
       "    .dataframe tbody tr th {\n",
       "        vertical-align: top;\n",
       "    }\n",
       "\n",
       "    .dataframe thead th {\n",
       "        text-align: right;\n",
       "    }\n",
       "</style>\n",
       "<table border=\"1\" class=\"dataframe\">\n",
       "  <thead>\n",
       "    <tr style=\"text-align: right;\">\n",
       "      <th></th>\n",
       "      <th>buying</th>\n",
       "      <th>maint</th>\n",
       "      <th>doors</th>\n",
       "      <th>lug_boot</th>\n",
       "      <th>safety</th>\n",
       "      <th>class</th>\n",
       "    </tr>\n",
       "  </thead>\n",
       "  <tbody>\n",
       "    <tr>\n",
       "      <th>0</th>\n",
       "      <td>3</td>\n",
       "      <td>3</td>\n",
       "      <td>0</td>\n",
       "      <td>0</td>\n",
       "      <td>0</td>\n",
       "      <td>0</td>\n",
       "    </tr>\n",
       "    <tr>\n",
       "      <th>1</th>\n",
       "      <td>3</td>\n",
       "      <td>3</td>\n",
       "      <td>0</td>\n",
       "      <td>0</td>\n",
       "      <td>1</td>\n",
       "      <td>0</td>\n",
       "    </tr>\n",
       "    <tr>\n",
       "      <th>2</th>\n",
       "      <td>3</td>\n",
       "      <td>3</td>\n",
       "      <td>0</td>\n",
       "      <td>0</td>\n",
       "      <td>2</td>\n",
       "      <td>0</td>\n",
       "    </tr>\n",
       "    <tr>\n",
       "      <th>3</th>\n",
       "      <td>3</td>\n",
       "      <td>3</td>\n",
       "      <td>0</td>\n",
       "      <td>1</td>\n",
       "      <td>0</td>\n",
       "      <td>0</td>\n",
       "    </tr>\n",
       "    <tr>\n",
       "      <th>4</th>\n",
       "      <td>3</td>\n",
       "      <td>3</td>\n",
       "      <td>0</td>\n",
       "      <td>1</td>\n",
       "      <td>1</td>\n",
       "      <td>0</td>\n",
       "    </tr>\n",
       "  </tbody>\n",
       "</table>\n",
       "</div>"
      ],
      "text/plain": [
       "   buying  maint  doors  lug_boot  safety  class\n",
       "0       3      3      0         0       0      0\n",
       "1       3      3      0         0       1      0\n",
       "2       3      3      0         0       2      0\n",
       "3       3      3      0         1       0      0\n",
       "4       3      3      0         1       1      0"
      ]
     },
     "execution_count": 10,
     "metadata": {},
     "output_type": "execute_result"
    }
   ],
   "source": [
    "df.head()"
   ]
  },
  {
   "cell_type": "markdown",
   "id": "bc5e7ba6",
   "metadata": {},
   "source": [
    "## Feature Selection"
   ]
  },
  {
   "cell_type": "code",
   "execution_count": 11,
   "id": "58a0dc99",
   "metadata": {},
   "outputs": [
    {
     "data": {
      "text/plain": [
       "<AxesSubplot:>"
      ]
     },
     "execution_count": 11,
     "metadata": {},
     "output_type": "execute_result"
    },
    {
     "data": {
      "image/png": "[encoded data removed]",
      "text/plain": [
       "<Figure size 432x288 with 2 Axes>"
      ]
     },
     "metadata": {
      "needs_background": "light"
     },
     "output_type": "display_data"
    }
   ],
   "source": [
    "sns.heatmap(df.corr(method=\"spearman\"), cmap=\"icefire\")"
   ]
  },
  {
   "cell_type": "markdown",
   "id": "dae19400",
   "metadata": {},
   "source": [
    "From the heatmap plot, it is obvious that the `buying` variable is not correlated to any variable except for the variable `class`, albeit weakly (negatively) correlated. Hence, we will only use the class value variable to predict the buying price of a car, the other variables will only introduce noise in the resulting machine learning model if used."
   ]
  },
  {
   "cell_type": "code",
   "execution_count": 12,
   "id": "424fe417",
   "metadata": {},
   "outputs": [],
   "source": [
    "df = df[[\"buying\", \"class\"]]"
   ]
  },
  {
   "cell_type": "markdown",
   "id": "25d72f46",
   "metadata": {},
   "source": [
    "## Undersampling"
   ]
  },
  {
   "cell_type": "code",
   "execution_count": 13,
   "id": "ce66edba",
   "metadata": {},
   "outputs": [],
   "source": [
    "sample_size = min(df[\"class\"].value_counts())"
   ]
  },
  {
   "cell_type": "markdown",
   "id": "46bf2022",
   "metadata": {},
   "source": [
    "Choose from each category in `class` the same number of samples"
   ]
  },
  {
   "cell_type": "code",
   "execution_count": 14,
   "id": "7f9a188f",
   "metadata": {},
   "outputs": [],
   "source": [
    "np.random.seed(seed)\n",
    "chosen = np.array([], dtype=np.int)\n",
    "for c in categories[\"class\"]:\n",
    "    i = categories[\"class\"].index(c)\n",
    "    chosen = np.append(chosen, np.random.choice(df[df[\"class\"] == i].index, sample_size, replace=False))"
   ]
  },
  {
   "cell_type": "code",
   "execution_count": 15,
   "id": "e0d55640",
   "metadata": {},
   "outputs": [
    {
     "data": {
      "text/html": [
       "<div>\n",
       "<style scoped>\n",
       "    .dataframe tbody tr th:only-of-type {\n",
       "        vertical-align: middle;\n",
       "    }\n",
       "\n",
       "    .dataframe tbody tr th {\n",
       "        vertical-align: top;\n",
       "    }\n",
       "\n",
       "    .dataframe thead th {\n",
       "        text-align: right;\n",
       "    }\n",
       "</style>\n",
       "<table border=\"1\" class=\"dataframe\">\n",
       "  <thead>\n",
       "    <tr style=\"text-align: right;\">\n",
       "      <th></th>\n",
       "      <th>buying</th>\n",
       "      <th>class</th>\n",
       "    </tr>\n",
       "  </thead>\n",
       "  <tbody>\n",
       "    <tr>\n",
       "      <th>1411</th>\n",
       "      <td>0</td>\n",
       "      <td>0</td>\n",
       "    </tr>\n",
       "    <tr>\n",
       "      <th>1333</th>\n",
       "      <td>0</td>\n",
       "      <td>0</td>\n",
       "    </tr>\n",
       "    <tr>\n",
       "      <th>417</th>\n",
       "      <td>3</td>\n",
       "      <td>0</td>\n",
       "    </tr>\n",
       "    <tr>\n",
       "      <th>1342</th>\n",
       "      <td>0</td>\n",
       "      <td>0</td>\n",
       "    </tr>\n",
       "    <tr>\n",
       "      <th>963</th>\n",
       "      <td>1</td>\n",
       "      <td>0</td>\n",
       "    </tr>\n",
       "  </tbody>\n",
       "</table>\n",
       "</div>"
      ],
      "text/plain": [
       "      buying  class\n",
       "1411       0      0\n",
       "1333       0      0\n",
       "417        3      0\n",
       "1342       0      0\n",
       "963        1      0"
      ]
     },
     "execution_count": 15,
     "metadata": {},
     "output_type": "execute_result"
    }
   ],
   "source": [
    "df.loc[chosen].head()"
   ]
  },
  {
   "cell_type": "markdown",
   "id": "fff8d6bc",
   "metadata": {},
   "source": [
    "## Modeling"
   ]
  },
  {
   "cell_type": "code",
   "execution_count": 16,
   "id": "362234b9",
   "metadata": {},
   "outputs": [],
   "source": [
    "X = df.loc[chosen][[\"class\"]]\n",
    "y = df.loc[chosen][[\"buying\"]]"
   ]
  },
  {
   "cell_type": "code",
   "execution_count": 17,
   "id": "ab1300ac",
   "metadata": {},
   "outputs": [],
   "source": [
    "clf = LogisticRegression()"
   ]
  },
  {
   "cell_type": "markdown",
   "id": "12ef1589",
   "metadata": {},
   "source": [
    "k-fold cross validation"
   ]
  },
  {
   "cell_type": "code",
   "execution_count": 18,
   "id": "5746f810",
   "metadata": {},
   "outputs": [],
   "source": [
    "cv = RepeatedStratifiedKFold(n_splits=10, n_repeats=5, random_state=seed)"
   ]
  },
  {
   "cell_type": "code",
   "execution_count": 19,
   "id": "85cff12e",
   "metadata": {},
   "outputs": [],
   "source": [
    "scores = cross_val_score(clf, X, y, scoring=\"accuracy\", cv=cv, n_jobs=-1)"
   ]
  },
  {
   "cell_type": "code",
   "execution_count": 20,
   "id": "7a304fdd",
   "metadata": {},
   "outputs": [
    {
     "name": "stdout",
     "output_type": "stream",
     "text": [
      "Average accuracy obtained from cross validation: 0.496\n"
     ]
    }
   ],
   "source": [
    "print(\"Average accuracy obtained from cross validation:\", round(np.mean(scores), 3))"
   ]
  },
  {
   "cell_type": "markdown",
   "id": "d2555d40",
   "metadata": {},
   "source": [
    "## Prediction"
   ]
  },
  {
   "cell_type": "code",
   "execution_count": 21,
   "id": "e779fce3",
   "metadata": {},
   "outputs": [
    {
     "data": {
      "text/plain": [
       "LogisticRegression()"
      ]
     },
     "execution_count": 21,
     "metadata": {},
     "output_type": "execute_result"
    }
   ],
   "source": [
    "clf.fit(X, np.ravel(y))"
   ]
  },
  {
   "cell_type": "markdown",
   "id": "4f99da00",
   "metadata": {},
   "source": [
    "Tasked to predict class value of \"good\""
   ]
  },
  {
   "cell_type": "code",
   "execution_count": 22,
   "id": "7d980ee8",
   "metadata": {},
   "outputs": [],
   "source": [
    "index = categories[\"class\"].index(\"good\")"
   ]
  },
  {
   "cell_type": "code",
   "execution_count": 23,
   "id": "ba4d21e5",
   "metadata": {},
   "outputs": [
    {
     "name": "stdout",
     "output_type": "stream",
     "text": [
      "prob. of low: 0.597\n",
      "prob. of med: 0.350\n",
      "prob. of high: 0.024\n",
      "prob. of vhigh: 0.029\n"
     ]
    }
   ],
   "source": [
    "prob = clf.predict_proba([[index]])[0]\n",
    "for i, b in enumerate(categories[\"buying\"]):\n",
    "    print(f\"prob. of {b}: {prob[i]:.3f}\")"
   ]
  },
  {
   "cell_type": "code",
   "execution_count": 24,
   "id": "7bbaab37",
   "metadata": {},
   "outputs": [
    {
     "name": "stdout",
     "output_type": "stream",
     "text": [
      "The predicted buying price is: low\n"
     ]
    }
   ],
   "source": [
    "pred = categories[\"buying\"][clf.predict([[index]])[0]]\n",
    "print(\"The predicted buying price is:\", pred)"
   ]
  }
 ],
 "metadata": {
  "kernelspec": {
   "display_name": "Python 3",
   "language": "python",
   "name": "python3"
  },
  "language_info": {
   "codemirror_mode": {
    "name": "ipython",
    "version": 3
   },
   "file_extension": ".py",
   "mimetype": "text/x-python",
   "name": "python",
   "nbconvert_exporter": "python",
   "pygments_lexer": "ipython3",
   "version": "3.6.8"
  }
 },
 "nbformat": 4,
 "nbformat_minor": 5
}
